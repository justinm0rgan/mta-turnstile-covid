{
 "cells": [
  {
   "cell_type": "markdown",
   "metadata": {},
   "source": [
    "# MTA Traffic Forecasting\n",
    "#### Justin Morgan & Khyatee Desai\n",
    "This notebook includes the data collection, storage, and cleaning process. The data is sourced from the [MTA turnstile data archive](http://web.mta.info/developers/turnstile.html), which all turnstile data from all NYC subway stations in comma delineated text files, segmented by week.\n",
    "# Part 1: Web Scrape MTA Data\n",
    "The data is iteratively scraped from the webpage using BeautifulSoup, and the text files are currently stored locally within a \"data\" folder.\n",
    "<br><br>\n",
    "Future steps will involve storing this data within an S3 bucket in the AWS cloud for faster storage & retrieval."
   ]
  },
  {
   "cell_type": "code",
   "execution_count": 72,
   "metadata": {},
   "outputs": [],
   "source": [
    "# import necessary packages\n",
    "import pandas as pd\n",
    "import numpy as np\n",
    "import os\n",
    "import requests\n",
    "import urllib.request\n",
    "import time\n",
    "from timeit import default_timer as timer\n",
    "import humanfriendly\n",
    "from bs4 import BeautifulSoup\n",
    "from datetime import datetime as dt"
   ]
  },
  {
   "cell_type": "markdown",
   "metadata": {},
   "source": [
    "### Get MTA turnstile data from publicly available website"
   ]
  },
  {
   "cell_type": "code",
   "execution_count": 6,
   "metadata": {},
   "outputs": [
    {
     "name": "stdout",
     "output_type": "stream",
     "text": [
      "Saving file turnstile 210313.txt\n",
      "Saving file turnstile 210306.txt\n",
      "Saving file turnstile 210227.txt\n",
      "Saving file turnstile 210220.txt\n",
      "Saving file turnstile 210213.txt\n",
      "Completed in 18.03 seconds\n"
     ]
    }
   ],
   "source": [
    "url_root = r'http://web.mta.info/developers/' # set root url\n",
    "# path = r'/Users/justinwilliams/projects/mta_turnstile/data/' # commented this out and changed it below to just save to \"./data/\" folder so it works for both of us - k\n",
    "starttime = timer() # start timer to time process\n",
    "\n",
    "req = requests.get(url_root + 'turnstile.html') # send request\n",
    "soup = BeautifulSoup(req.content, 'html.parser') # parse html and save to bs4 object\n",
    "weekly_data = soup.find(class_='span-84 last') # find class_ where file links are locatedb\n",
    "\n",
    "## This way took much longer so used urllib.request.urlretrieve\n",
    "# for file in weekly_data.findAll('a'):\n",
    "#     print('Saving file turnstile ' + str(file)[39:49])\n",
    "#     datafile = requests.get(url_root + str(file)[9:49])\n",
    "#     with open(path + str(file)[39:49], 'w') as outf:\n",
    "#         for line in datafile.text:\n",
    "#             outf.writelines(line)\n",
    "#     time.sleep(1)\n",
    "\n",
    "# endtime = timer()\n",
    "# print('Completed in ' + humanfriendly.format_timespan(endtime-starttime))\n",
    "\n",
    "counter = 1\n",
    "for one_a_tag in weekly_data.findAll('a')[:5]:\n",
    "    file = one_a_tag['href']\n",
    "    datafile = url_root + file\n",
    "    urllib.request.urlretrieve(datafile, './data/' + datafile[datafile.find('/turnstile_')+1:])\n",
    "    time.sleep(1)\n",
    "    counter += 1\n",
    "    print('Saving file turnstile ' + str(one_a_tag)[39:49])\n",
    "    \n",
    "endtime = timer()\n",
    "print('Completed in ' + humanfriendly.format_timespan(endtime-starttime))"
   ]
  },
  {
   "cell_type": "markdown",
   "metadata": {},
   "source": [
    "Took __47 minutes and 17.79 seconds__ to download all files, also folder size is __12.05GB__\n",
    "\n",
    "Maybe there is a better way to do this?"
   ]
  },
  {
   "cell_type": "markdown",
   "metadata": {},
   "source": [
    "# Part 2: Data Cleaning\n",
    "This notebook includes the data cleaning process"
   ]
  },
  {
   "cell_type": "markdown",
   "metadata": {},
   "source": [
    "### Inspect Data\n",
    "Field Descriptions: http://web.mta.info/developers/resources/nyct/turnstile/ts_Field_Description.txt\n",
    "\n",
    "`C/A      = Control Area (A002)`<br>\n",
    "`UNIT     = Remote Unit for a station (R051)`<br>\n",
    "`SCP      = Subunit Channel Position represents an specific address for a device (02-00-00)`<br>\n",
    "`STATION  = Represents the station name the device is located at`<br>\n",
    "`LINENAME = Represents all train lines that can be boarded at this station\n",
    "           Normally lines are represented by one character.  LINENAME 456NQR repersents train server for 4, 5, 6, N, Q, and R trains.`<br>\n",
    "`DIVISION = Represents the Line originally the station belonged to BMT, IRT, or IND   `<br>\n",
    "`DATE     = Represents the date (MM-DD-YY)`<br>\n",
    "`TIME     = Represents the time (hh:mm:ss) for a scheduled audit event`<br>\n",
    "`DESc     = Represent the \"REGULAR\" scheduled audit event (Normally occurs every 4 hours)`<br>\n",
    "        `1. Audits may occur more that 4 hours due to planning, or troubleshooting activities.`<br>\n",
    "        `2. Additionally, there may be a \"RECOVR AUD\" entry: This refers to a missed audit that was recovered.`<br>\n",
    "`ENTRIES  = The comulative entry register value for a device`<br>\n",
    "`EXIST    = The cumulative exit register value for a device`<br>"
   ]
  },
  {
   "cell_type": "code",
   "execution_count": 7,
   "metadata": {},
   "outputs": [
    {
     "data": {
      "text/html": [
       "<div>\n",
       "<style scoped>\n",
       "    .dataframe tbody tr th:only-of-type {\n",
       "        vertical-align: middle;\n",
       "    }\n",
       "\n",
       "    .dataframe tbody tr th {\n",
       "        vertical-align: top;\n",
       "    }\n",
       "\n",
       "    .dataframe thead th {\n",
       "        text-align: right;\n",
       "    }\n",
       "</style>\n",
       "<table border=\"1\" class=\"dataframe\">\n",
       "  <thead>\n",
       "    <tr style=\"text-align: right;\">\n",
       "      <th></th>\n",
       "      <th>C/A</th>\n",
       "      <th>UNIT</th>\n",
       "      <th>SCP</th>\n",
       "      <th>STATION</th>\n",
       "      <th>LINENAME</th>\n",
       "      <th>DIVISION</th>\n",
       "      <th>DATE</th>\n",
       "      <th>TIME</th>\n",
       "      <th>DESC</th>\n",
       "      <th>ENTRIES</th>\n",
       "      <th>EXITS</th>\n",
       "    </tr>\n",
       "  </thead>\n",
       "  <tbody>\n",
       "    <tr>\n",
       "      <th>0</th>\n",
       "      <td>A002</td>\n",
       "      <td>R051</td>\n",
       "      <td>02-00-00</td>\n",
       "      <td>59 ST</td>\n",
       "      <td>NQR456W</td>\n",
       "      <td>BMT</td>\n",
       "      <td>03/06/2021</td>\n",
       "      <td>03:00:00</td>\n",
       "      <td>REGULAR</td>\n",
       "      <td>7540642</td>\n",
       "      <td>2572027</td>\n",
       "    </tr>\n",
       "    <tr>\n",
       "      <th>1</th>\n",
       "      <td>A002</td>\n",
       "      <td>R051</td>\n",
       "      <td>02-00-00</td>\n",
       "      <td>59 ST</td>\n",
       "      <td>NQR456W</td>\n",
       "      <td>BMT</td>\n",
       "      <td>03/06/2021</td>\n",
       "      <td>07:00:00</td>\n",
       "      <td>REGULAR</td>\n",
       "      <td>7540645</td>\n",
       "      <td>2572030</td>\n",
       "    </tr>\n",
       "    <tr>\n",
       "      <th>2</th>\n",
       "      <td>A002</td>\n",
       "      <td>R051</td>\n",
       "      <td>02-00-00</td>\n",
       "      <td>59 ST</td>\n",
       "      <td>NQR456W</td>\n",
       "      <td>BMT</td>\n",
       "      <td>03/06/2021</td>\n",
       "      <td>11:00:00</td>\n",
       "      <td>REGULAR</td>\n",
       "      <td>7540676</td>\n",
       "      <td>2572093</td>\n",
       "    </tr>\n",
       "    <tr>\n",
       "      <th>3</th>\n",
       "      <td>A002</td>\n",
       "      <td>R051</td>\n",
       "      <td>02-00-00</td>\n",
       "      <td>59 ST</td>\n",
       "      <td>NQR456W</td>\n",
       "      <td>BMT</td>\n",
       "      <td>03/06/2021</td>\n",
       "      <td>15:00:00</td>\n",
       "      <td>REGULAR</td>\n",
       "      <td>7540764</td>\n",
       "      <td>2572128</td>\n",
       "    </tr>\n",
       "    <tr>\n",
       "      <th>4</th>\n",
       "      <td>A002</td>\n",
       "      <td>R051</td>\n",
       "      <td>02-00-00</td>\n",
       "      <td>59 ST</td>\n",
       "      <td>NQR456W</td>\n",
       "      <td>BMT</td>\n",
       "      <td>03/06/2021</td>\n",
       "      <td>19:00:00</td>\n",
       "      <td>REGULAR</td>\n",
       "      <td>7540904</td>\n",
       "      <td>2572160</td>\n",
       "    </tr>\n",
       "  </tbody>\n",
       "</table>\n",
       "</div>"
      ],
      "text/plain": [
       "    C/A  UNIT       SCP STATION LINENAME DIVISION        DATE      TIME  \\\n",
       "0  A002  R051  02-00-00   59 ST  NQR456W      BMT  03/06/2021  03:00:00   \n",
       "1  A002  R051  02-00-00   59 ST  NQR456W      BMT  03/06/2021  07:00:00   \n",
       "2  A002  R051  02-00-00   59 ST  NQR456W      BMT  03/06/2021  11:00:00   \n",
       "3  A002  R051  02-00-00   59 ST  NQR456W      BMT  03/06/2021  15:00:00   \n",
       "4  A002  R051  02-00-00   59 ST  NQR456W      BMT  03/06/2021  19:00:00   \n",
       "\n",
       "      DESC  ENTRIES  \\\n",
       "0  REGULAR  7540642   \n",
       "1  REGULAR  7540645   \n",
       "2  REGULAR  7540676   \n",
       "3  REGULAR  7540764   \n",
       "4  REGULAR  7540904   \n",
       "\n",
       "   EXITS                                                                 \n",
       "0                                            2572027                     \n",
       "1                                            2572030                     \n",
       "2                                            2572093                     \n",
       "3                                            2572128                     \n",
       "4                                            2572160                     "
      ]
     },
     "execution_count": 7,
     "metadata": {},
     "output_type": "execute_result"
    }
   ],
   "source": [
    "df = pd.read_csv(\"./data/turnstile_210313.txt\")\n",
    "df.head()"
   ]
  },
  {
   "cell_type": "markdown",
   "metadata": {},
   "source": [
    "### Concatenate Data\n",
    "Concatenate each data file into a Pandas dataframe"
   ]
  },
  {
   "cell_type": "code",
   "execution_count": 82,
   "metadata": {},
   "outputs": [],
   "source": [
    "# create main df using first file in the folder\n",
    "for filename in os.listdir(\"./data/\")[:1]:\n",
    "    df = pd.read_csv(\"./data/\"+filename)\n",
    "\n",
    "# iterate over remaining files and concat them to main df\n",
    "for filename in os.listdir(\"./data/\")[1:]:\n",
    "    df = pd.concat([df,pd.read_csv(\"./data/\"+filename)])"
   ]
  },
  {
   "cell_type": "code",
   "execution_count": 83,
   "metadata": {},
   "outputs": [
    {
     "data": {
      "text/html": [
       "<div>\n",
       "<style scoped>\n",
       "    .dataframe tbody tr th:only-of-type {\n",
       "        vertical-align: middle;\n",
       "    }\n",
       "\n",
       "    .dataframe tbody tr th {\n",
       "        vertical-align: top;\n",
       "    }\n",
       "\n",
       "    .dataframe thead th {\n",
       "        text-align: right;\n",
       "    }\n",
       "</style>\n",
       "<table border=\"1\" class=\"dataframe\">\n",
       "  <thead>\n",
       "    <tr style=\"text-align: right;\">\n",
       "      <th></th>\n",
       "      <th>C/A</th>\n",
       "      <th>UNIT</th>\n",
       "      <th>SCP</th>\n",
       "      <th>STATION</th>\n",
       "      <th>LINENAME</th>\n",
       "      <th>DIVISION</th>\n",
       "      <th>DATE</th>\n",
       "      <th>TIME</th>\n",
       "      <th>DESC</th>\n",
       "      <th>ENTRIES</th>\n",
       "      <th>EXITS</th>\n",
       "    </tr>\n",
       "  </thead>\n",
       "  <tbody>\n",
       "    <tr>\n",
       "      <th>0</th>\n",
       "      <td>A002</td>\n",
       "      <td>R051</td>\n",
       "      <td>02-00-00</td>\n",
       "      <td>59 ST</td>\n",
       "      <td>NQR456W</td>\n",
       "      <td>BMT</td>\n",
       "      <td>02/06/2021</td>\n",
       "      <td>03:00:00</td>\n",
       "      <td>REGULAR</td>\n",
       "      <td>7527244</td>\n",
       "      <td>2565995</td>\n",
       "    </tr>\n",
       "    <tr>\n",
       "      <th>1</th>\n",
       "      <td>A002</td>\n",
       "      <td>R051</td>\n",
       "      <td>02-00-00</td>\n",
       "      <td>59 ST</td>\n",
       "      <td>NQR456W</td>\n",
       "      <td>BMT</td>\n",
       "      <td>02/06/2021</td>\n",
       "      <td>07:00:00</td>\n",
       "      <td>REGULAR</td>\n",
       "      <td>7527246</td>\n",
       "      <td>2566004</td>\n",
       "    </tr>\n",
       "    <tr>\n",
       "      <th>2</th>\n",
       "      <td>A002</td>\n",
       "      <td>R051</td>\n",
       "      <td>02-00-00</td>\n",
       "      <td>59 ST</td>\n",
       "      <td>NQR456W</td>\n",
       "      <td>BMT</td>\n",
       "      <td>02/06/2021</td>\n",
       "      <td>11:00:00</td>\n",
       "      <td>REGULAR</td>\n",
       "      <td>7527296</td>\n",
       "      <td>2566054</td>\n",
       "    </tr>\n",
       "    <tr>\n",
       "      <th>3</th>\n",
       "      <td>A002</td>\n",
       "      <td>R051</td>\n",
       "      <td>02-00-00</td>\n",
       "      <td>59 ST</td>\n",
       "      <td>NQR456W</td>\n",
       "      <td>BMT</td>\n",
       "      <td>02/06/2021</td>\n",
       "      <td>15:00:00</td>\n",
       "      <td>REGULAR</td>\n",
       "      <td>7527430</td>\n",
       "      <td>2566098</td>\n",
       "    </tr>\n",
       "    <tr>\n",
       "      <th>4</th>\n",
       "      <td>A002</td>\n",
       "      <td>R051</td>\n",
       "      <td>02-00-00</td>\n",
       "      <td>59 ST</td>\n",
       "      <td>NQR456W</td>\n",
       "      <td>BMT</td>\n",
       "      <td>02/06/2021</td>\n",
       "      <td>19:00:00</td>\n",
       "      <td>REGULAR</td>\n",
       "      <td>7527588</td>\n",
       "      <td>2566129</td>\n",
       "    </tr>\n",
       "  </tbody>\n",
       "</table>\n",
       "</div>"
      ],
      "text/plain": [
       "    C/A  UNIT       SCP STATION LINENAME DIVISION        DATE      TIME  \\\n",
       "0  A002  R051  02-00-00   59 ST  NQR456W      BMT  02/06/2021  03:00:00   \n",
       "1  A002  R051  02-00-00   59 ST  NQR456W      BMT  02/06/2021  07:00:00   \n",
       "2  A002  R051  02-00-00   59 ST  NQR456W      BMT  02/06/2021  11:00:00   \n",
       "3  A002  R051  02-00-00   59 ST  NQR456W      BMT  02/06/2021  15:00:00   \n",
       "4  A002  R051  02-00-00   59 ST  NQR456W      BMT  02/06/2021  19:00:00   \n",
       "\n",
       "      DESC  ENTRIES  \\\n",
       "0  REGULAR  7527244   \n",
       "1  REGULAR  7527246   \n",
       "2  REGULAR  7527296   \n",
       "3  REGULAR  7527430   \n",
       "4  REGULAR  7527588   \n",
       "\n",
       "   EXITS                                                                 \n",
       "0                                            2565995                     \n",
       "1                                            2566004                     \n",
       "2                                            2566054                     \n",
       "3                                            2566098                     \n",
       "4                                            2566129                     "
      ]
     },
     "execution_count": 83,
     "metadata": {},
     "output_type": "execute_result"
    }
   ],
   "source": [
    "df.head()"
   ]
  },
  {
   "cell_type": "markdown",
   "metadata": {},
   "source": [
    "### Reformat Data Types\n",
    "Convert strings to DateTime format"
   ]
  },
  {
   "cell_type": "code",
   "execution_count": 84,
   "metadata": {
    "scrolled": true
   },
   "outputs": [],
   "source": [
    "df.DATE = pd.to_datetime(df['DATE'])"
   ]
  },
  {
   "cell_type": "markdown",
   "metadata": {},
   "source": [
    "### Change Time Column to Timestamp Object"
   ]
  },
  {
   "cell_type": "code",
   "execution_count": 81,
   "metadata": {
    "scrolled": false
   },
   "outputs": [
    {
     "data": {
      "text/plain": [
       "0         1.615878e+09\n",
       "1         1.615892e+09\n",
       "2         1.615907e+09\n",
       "3         1.615921e+09\n",
       "4         1.615936e+09\n",
       "              ...     \n",
       "209039    1.615882e+09\n",
       "209040    1.615896e+09\n",
       "209041    1.615910e+09\n",
       "209042    1.615925e+09\n",
       "209043    1.615939e+09\n",
       "Name: TIME, Length: 1045984, dtype: float64"
      ]
     },
     "execution_count": 81,
     "metadata": {},
     "output_type": "execute_result"
    }
   ],
   "source": [
    "# df.TIME = pd.to_datetime(df['TIME'])\n",
    "# df.TIME.apply(lambda x: dt.timestamp(x))"
   ]
  },
  {
   "cell_type": "code",
   "execution_count": 85,
   "metadata": {},
   "outputs": [
    {
     "data": {
      "text/plain": [
       "C/A                                                                             object\n",
       "UNIT                                                                            object\n",
       "SCP                                                                             object\n",
       "STATION                                                                         object\n",
       "LINENAME                                                                        object\n",
       "DIVISION                                                                        object\n",
       "DATE                                                                    datetime64[ns]\n",
       "TIME                                                                            object\n",
       "DESC                                                                            object\n",
       "ENTRIES                                                                          int64\n",
       "EXITS                                                                            int64\n",
       "dtype: object"
      ]
     },
     "execution_count": 85,
     "metadata": {},
     "output_type": "execute_result"
    }
   ],
   "source": [
    "df.dtypes"
   ]
  },
  {
   "cell_type": "code",
   "execution_count": 86,
   "metadata": {
    "scrolled": true
   },
   "outputs": [
    {
     "data": {
      "text/html": [
       "<div>\n",
       "<style scoped>\n",
       "    .dataframe tbody tr th:only-of-type {\n",
       "        vertical-align: middle;\n",
       "    }\n",
       "\n",
       "    .dataframe tbody tr th {\n",
       "        vertical-align: top;\n",
       "    }\n",
       "\n",
       "    .dataframe thead th {\n",
       "        text-align: right;\n",
       "    }\n",
       "</style>\n",
       "<table border=\"1\" class=\"dataframe\">\n",
       "  <thead>\n",
       "    <tr style=\"text-align: right;\">\n",
       "      <th></th>\n",
       "      <th>C/A</th>\n",
       "      <th>UNIT</th>\n",
       "      <th>SCP</th>\n",
       "      <th>STATION</th>\n",
       "      <th>LINENAME</th>\n",
       "      <th>DIVISION</th>\n",
       "      <th>DATE</th>\n",
       "      <th>TIME</th>\n",
       "      <th>DESC</th>\n",
       "      <th>ENTRIES</th>\n",
       "      <th>EXITS</th>\n",
       "    </tr>\n",
       "  </thead>\n",
       "  <tbody>\n",
       "    <tr>\n",
       "      <th>0</th>\n",
       "      <td>A002</td>\n",
       "      <td>R051</td>\n",
       "      <td>02-00-00</td>\n",
       "      <td>59 ST</td>\n",
       "      <td>NQR456W</td>\n",
       "      <td>BMT</td>\n",
       "      <td>2021-02-06</td>\n",
       "      <td>03:00:00</td>\n",
       "      <td>REGULAR</td>\n",
       "      <td>7527244</td>\n",
       "      <td>2565995</td>\n",
       "    </tr>\n",
       "    <tr>\n",
       "      <th>1</th>\n",
       "      <td>A002</td>\n",
       "      <td>R051</td>\n",
       "      <td>02-00-00</td>\n",
       "      <td>59 ST</td>\n",
       "      <td>NQR456W</td>\n",
       "      <td>BMT</td>\n",
       "      <td>2021-02-06</td>\n",
       "      <td>07:00:00</td>\n",
       "      <td>REGULAR</td>\n",
       "      <td>7527246</td>\n",
       "      <td>2566004</td>\n",
       "    </tr>\n",
       "    <tr>\n",
       "      <th>2</th>\n",
       "      <td>A002</td>\n",
       "      <td>R051</td>\n",
       "      <td>02-00-00</td>\n",
       "      <td>59 ST</td>\n",
       "      <td>NQR456W</td>\n",
       "      <td>BMT</td>\n",
       "      <td>2021-02-06</td>\n",
       "      <td>11:00:00</td>\n",
       "      <td>REGULAR</td>\n",
       "      <td>7527296</td>\n",
       "      <td>2566054</td>\n",
       "    </tr>\n",
       "    <tr>\n",
       "      <th>3</th>\n",
       "      <td>A002</td>\n",
       "      <td>R051</td>\n",
       "      <td>02-00-00</td>\n",
       "      <td>59 ST</td>\n",
       "      <td>NQR456W</td>\n",
       "      <td>BMT</td>\n",
       "      <td>2021-02-06</td>\n",
       "      <td>15:00:00</td>\n",
       "      <td>REGULAR</td>\n",
       "      <td>7527430</td>\n",
       "      <td>2566098</td>\n",
       "    </tr>\n",
       "    <tr>\n",
       "      <th>4</th>\n",
       "      <td>A002</td>\n",
       "      <td>R051</td>\n",
       "      <td>02-00-00</td>\n",
       "      <td>59 ST</td>\n",
       "      <td>NQR456W</td>\n",
       "      <td>BMT</td>\n",
       "      <td>2021-02-06</td>\n",
       "      <td>19:00:00</td>\n",
       "      <td>REGULAR</td>\n",
       "      <td>7527588</td>\n",
       "      <td>2566129</td>\n",
       "    </tr>\n",
       "  </tbody>\n",
       "</table>\n",
       "</div>"
      ],
      "text/plain": [
       "    C/A  UNIT       SCP STATION LINENAME DIVISION       DATE      TIME  \\\n",
       "0  A002  R051  02-00-00   59 ST  NQR456W      BMT 2021-02-06  03:00:00   \n",
       "1  A002  R051  02-00-00   59 ST  NQR456W      BMT 2021-02-06  07:00:00   \n",
       "2  A002  R051  02-00-00   59 ST  NQR456W      BMT 2021-02-06  11:00:00   \n",
       "3  A002  R051  02-00-00   59 ST  NQR456W      BMT 2021-02-06  15:00:00   \n",
       "4  A002  R051  02-00-00   59 ST  NQR456W      BMT 2021-02-06  19:00:00   \n",
       "\n",
       "      DESC  ENTRIES  \\\n",
       "0  REGULAR  7527244   \n",
       "1  REGULAR  7527246   \n",
       "2  REGULAR  7527296   \n",
       "3  REGULAR  7527430   \n",
       "4  REGULAR  7527588   \n",
       "\n",
       "   EXITS                                                                 \n",
       "0                                            2565995                     \n",
       "1                                            2566004                     \n",
       "2                                            2566054                     \n",
       "3                                            2566098                     \n",
       "4                                            2566129                     "
      ]
     },
     "execution_count": 86,
     "metadata": {},
     "output_type": "execute_result"
    }
   ],
   "source": [
    "df.head()"
   ]
  },
  {
   "cell_type": "markdown",
   "metadata": {},
   "source": [
    "### "
   ]
  },
  {
   "cell_type": "code",
   "execution_count": null,
   "metadata": {},
   "outputs": [],
   "source": []
  },
  {
   "cell_type": "markdown",
   "metadata": {},
   "source": [
    "### Pickle Cleaned Data"
   ]
  },
  {
   "cell_type": "code",
   "execution_count": null,
   "metadata": {},
   "outputs": [],
   "source": []
  }
 ],
 "metadata": {
  "kernelspec": {
   "display_name": "Python 3",
   "language": "python",
   "name": "python3"
  },
  "language_info": {
   "codemirror_mode": {
    "name": "ipython",
    "version": 3
   },
   "file_extension": ".py",
   "mimetype": "text/x-python",
   "name": "python",
   "nbconvert_exporter": "python",
   "pygments_lexer": "ipython3",
   "version": "3.7.6"
  }
 },
 "nbformat": 4,
 "nbformat_minor": 4
}
