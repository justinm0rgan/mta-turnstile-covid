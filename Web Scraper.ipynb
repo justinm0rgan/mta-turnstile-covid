{
 "cells": [
  {
   "cell_type": "markdown",
   "metadata": {},
   "source": [
    "# MTA Traffic Forecasting\n",
    "Justin Morgan & Khyatee Desai\n",
    "## Part 1: Data Collection\n",
    "This notebook includes the data collection and storage process. The data is sourced from the [MTA turnstile data archive](http://web.mta.info/developers/turnstile.html), which all turnstile data from all NYC subway stations in comma delineated text files, segmented by week.<br><br>\n",
    "The data is iteratively scraped from the webpage using BeautifulSoup, and the text files are currently stored locally within a \"data\" folder.\n",
    "<br>\n",
    "Future steps will involve storing this data within an S3 bucket in the AWS cloud for faster storage & retrieval."
   ]
  },
  {
   "cell_type": "markdown",
   "metadata": {},
   "source": [
    "## Web Scrape MTA Data"
   ]
  },
  {
   "cell_type": "code",
   "execution_count": 3,
   "metadata": {},
   "outputs": [],
   "source": [
    "# import necessary packages\n",
    "import pandas as pd\n",
    "import numpy as np\n",
    "import os\n",
    "import requests\n",
    "import urllib.request\n",
    "import time\n",
    "from timeit import default_timer as timer\n",
    "import humanfriendly\n",
    "from bs4 import BeautifulSoup"
   ]
  },
  {
   "cell_type": "markdown",
   "metadata": {},
   "source": [
    "### Get MTA turnstile data from publicly available website"
   ]
  },
  {
   "cell_type": "code",
   "execution_count": 6,
   "metadata": {},
   "outputs": [
    {
     "name": "stdout",
     "output_type": "stream",
     "text": [
      "Saving file turnstile 210313.txt\n",
      "Saving file turnstile 210306.txt\n",
      "Saving file turnstile 210227.txt\n",
      "Saving file turnstile 210220.txt\n",
      "Saving file turnstile 210213.txt\n",
      "Completed in 18.03 seconds\n"
     ]
    }
   ],
   "source": [
    "url_root = r'http://web.mta.info/developers/' # set root url\n",
    "# path = r'/Users/justinwilliams/projects/mta_turnstile/data/' # commented this out and changed it below to just save to \"./data/\" folder so it works for both of us - k\n",
    "starttime = timer() # start timer to time process\n",
    "\n",
    "req = requests.get(url_root + 'turnstile.html') # send request\n",
    "soup = BeautifulSoup(req.content, 'html.parser') # parse html and save to bs4 object\n",
    "weekly_data = soup.find(class_='span-84 last') # find class_ where file links are locatedb\n",
    "\n",
    "## This way took much longer so used urllib.request.urlretrieve\n",
    "# for file in weekly_data.findAll('a'):\n",
    "#     print('Saving file turnstile ' + str(file)[39:49])\n",
    "#     datafile = requests.get(url_root + str(file)[9:49])\n",
    "#     with open(path + str(file)[39:49], 'w') as outf:\n",
    "#         for line in datafile.text:\n",
    "#             outf.writelines(line)\n",
    "#     time.sleep(1)\n",
    "\n",
    "# endtime = timer()\n",
    "# print('Completed in ' + humanfriendly.format_timespan(endtime-starttime))\n",
    "\n",
    "counter = 1\n",
    "for one_a_tag in weekly_data.findAll('a')[:5]:\n",
    "    file = one_a_tag['href']\n",
    "    datafile = url_root + file\n",
    "    urllib.request.urlretrieve(datafile, './data/' + datafile[datafile.find('/turnstile_')+1:])\n",
    "    time.sleep(1)\n",
    "    counter += 1\n",
    "    print('Saving file turnstile ' + str(one_a_tag)[39:49])\n",
    "    \n",
    "endtime = timer()\n",
    "print('Completed in ' + humanfriendly.format_timespan(endtime-starttime))"
   ]
  },
  {
   "cell_type": "markdown",
   "metadata": {},
   "source": [
    "Took __47 minutes and 17.79 seconds__ to download all files, also folder size is __12.05GB__\n",
    "\n",
    "Maybe there is a better way to do this?"
   ]
  },
  {
   "cell_type": "code",
   "execution_count": null,
   "metadata": {},
   "outputs": [],
   "source": []
  }
 ],
 "metadata": {
  "kernelspec": {
   "display_name": "Python 3",
   "language": "python",
   "name": "python3"
  },
  "language_info": {
   "codemirror_mode": {
    "name": "ipython",
    "version": 3
   },
   "file_extension": ".py",
   "mimetype": "text/x-python",
   "name": "python",
   "nbconvert_exporter": "python",
   "pygments_lexer": "ipython3",
   "version": "3.7.6"
  }
 },
 "nbformat": 4,
 "nbformat_minor": 4
}
